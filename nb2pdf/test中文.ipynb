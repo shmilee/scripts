{
 "metadata": {
  "name": "",
  "signature": "sha256:ce6cecc798a11cfb489d9746d681e73561456110986ece101bfd8f8e607a4692"
 },
 "nbformat": 3,
 "nbformat_minor": 0,
 "worksheets": [
  {
   "cells": [
    {
     "cell_type": "heading",
     "level": 1,
     "metadata": {},
     "source": [
      "\u4e00\u7ea7\u6807\u9898"
     ]
    },
    {
     "cell_type": "markdown",
     "metadata": {},
     "source": [
      "md-cell  \n",
      "*\u659c\u4f53word*\n",
      "\n",
      "**Blod\u5b57\u4f53**\n",
      "\n",
      "$\\frac{\\sqrt{m}}{e^2}$\n",
      "$$ a=1$$\n",
      "$$ b=2$$"
     ]
    },
    {
     "cell_type": "heading",
     "level": 2,
     "metadata": {},
     "source": [
      "\u4e8c\u7ea7"
     ]
    },
    {
     "cell_type": "markdown",
     "metadata": {},
     "source": [
      "* \u4e00\n",
      "* 2\n",
      "* three\n",
      "    - one\n",
      "    - \u4e8c\n",
      "    - 3"
     ]
    },
    {
     "cell_type": "heading",
     "level": 1,
     "metadata": {},
     "source": [
      "\u4f5c\u56fe"
     ]
    },
    {
     "cell_type": "code",
     "collapsed": false,
     "input": [
      "import matplotlib.pyplot as plt\n",
      "import numpy as np"
     ],
     "language": "python",
     "metadata": {},
     "outputs": [],
     "prompt_number": 1
    },
    {
     "cell_type": "code",
     "collapsed": false,
     "input": [
      "x=np.arange(1,10)\n",
      "plt.plot(x^2,x)\n",
      "plt.show()"
     ],
     "language": "python",
     "metadata": {},
     "outputs": [
      {
       "metadata": {},
       "output_type": "display_data",
       "png": "[encoded data removed]",
       "text": [
        "<matplotlib.figure.Figure at 0x7f7e2cbc9da0>"
       ]
      }
     ],
     "prompt_number": 15
    },
    {
     "cell_type": "code",
     "collapsed": false,
     "input": [],
     "language": "python",
     "metadata": {},
     "outputs": []
    }
   ],
   "metadata": {}
  }
 ]
}